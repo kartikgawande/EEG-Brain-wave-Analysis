{
 "cells": [
  {
   "cell_type": "code",
   "execution_count": 4,
   "metadata": {},
   "outputs": [
    {
     "name": "stdout",
     "output_type": "stream",
     "text": [
      "Renamed '16shiv-2019-06-05_13.35.27.csv' to '16.csv'\n",
      "Renamed '17ank-2019-06-05_14.43.17.csv' to '17.csv'\n",
      "Renamed '18kom-2019-06-06_11.03.13.csv' to '18.csv'\n",
      "Renamed '19tri-2019-06-06_12.23.44.csv' to '19.csv'\n",
      "Renamed '20shy-2019-06-06_16.04.41.csv' to '20.csv'\n",
      "Renamed '21tar-2019-06-06_15.10.12.csv' to '21.csv'\n",
      "Renamed '22ayu-2019-06-07_11.16.54.csv' to '22.csv'\n",
      "Renamed '23nih-2019-06-07_12.18.32.csv' to '23.csv'\n",
      "Renamed '24pra-2019-06-07_14.27.52.csv' to '24.csv'\n",
      "Renamed '25lik-2019-06-07_15.49.58.csv' to '25.csv'\n",
      "Renamed '26rac-2019-06-08_10.04.41.csv' to '26.csv'\n",
      "Renamed '27kar-2019-06-08_10.48.19.csv' to '27.csv'\n",
      "Renamed '28pra-2019-06-08_11.57.10.csv' to '28.csv'\n",
      "Renamed '29shu-2019-06-08_13.08.17.csv' to '29.csv'\n",
      "Renamed '30kar-2019-06-08_15.00.29.csv' to '30.csv'\n"
     ]
    }
   ],
   "source": [
    "import os\n",
    "\n",
    "# Directory containing the files\n",
    "directory_path = 'D:\\\\Kartik\\\\IIITB\\\\Study\\\\Sem 3\\\\PE\\\\Kedro\\\\kartik-eeg\\\\data\\\\02_intermediate\\\\video_data\\\\16_to_30\\\\stamps'\n",
    "\n",
    "# Process each file in the directory\n",
    "for filename in os.listdir(directory_path):\n",
    "    # Extract the file extension\n",
    "    file_extension = os.path.splitext(filename)[1]\n",
    "    # Form the new filename using the first two characters of the original filename and the extension\n",
    "    new_filename = filename[:2] + file_extension\n",
    "    # Full path for the original and new filenames\n",
    "    old_file_path = os.path.join(directory_path, filename)\n",
    "    new_file_path = os.path.join(directory_path, new_filename)\n",
    "    \n",
    "    # Rename the file\n",
    "    os.rename(old_file_path, new_file_path)\n",
    "    print(f\"Renamed '{filename}' to '{new_filename}'\")\n"
   ]
  },
  {
   "cell_type": "code",
   "execution_count": null,
   "metadata": {},
   "outputs": [],
   "source": []
  }
 ],
 "metadata": {
  "kernelspec": {
   "display_name": "Python 3",
   "language": "python",
   "name": "python3"
  },
  "language_info": {
   "codemirror_mode": {
    "name": "ipython",
    "version": 3
   },
   "file_extension": ".py",
   "mimetype": "text/x-python",
   "name": "python",
   "nbconvert_exporter": "python",
   "pygments_lexer": "ipython3",
   "version": "3.9.20"
  }
 },
 "nbformat": 4,
 "nbformat_minor": 2
}
