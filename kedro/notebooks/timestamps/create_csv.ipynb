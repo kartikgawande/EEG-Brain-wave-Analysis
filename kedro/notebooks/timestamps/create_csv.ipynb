{
 "cells": [
  {
   "cell_type": "code",
   "execution_count": 22,
   "metadata": {},
   "outputs": [],
   "source": [
    "from pathlib import Path\n",
    "from git import Tree\n",
    "import pandas as pd\n",
    "dic={1: \"10:25:05\",\n",
    "        2: \"11:42:12\",\n",
    "        3: \"14:05:11\",\n",
    "        4: \"14:50:15\",\n",
    "        5: \"18:15:14\",\n",
    "        6: \"14:41:31\",\n",
    "        7: \"15:38:20\",\n",
    "        8: \"16:42:09\",\n",
    "        10: \"13:16:00\",\n",
    "        11: \"15:27:31\",\n",
    "        12: \"16:30:24\",\n",
    "        13: \"09:21:39\",\n",
    "        14: \"10:45:22\",\n",
    "        15: \"12:21:19\",\n",
    "}\n",
    "\n",
    "path=Path(r'D:\\Kartik\\IIITB\\Study\\Sem 3\\PE\\Kedro\\kartik-eeg\\data\\02_intermediate\\video_data\\1_to_15')\n",
    "\n",
    "df=pd.DataFrame(data=dic.values(), index=dic.keys(),)\n",
    "df['file']=list(map(lambda x:str(x)+\".csv\",dic.keys()))\n",
    "df['offset']=df[0]\n",
    "df.drop(columns=[0],inplace=True)\n",
    "df.to_csv(path/'offset_times.csv',index=False)"
   ]
  },
  {
   "cell_type": "code",
   "execution_count": null,
   "metadata": {},
   "outputs": [],
   "source": []
  }
 ],
 "metadata": {
  "kernelspec": {
   "display_name": "Python 3",
   "language": "python",
   "name": "python3"
  },
  "language_info": {
   "codemirror_mode": {
    "name": "ipython",
    "version": 3
   },
   "file_extension": ".py",
   "mimetype": "text/x-python",
   "name": "python",
   "nbconvert_exporter": "python",
   "pygments_lexer": "ipython3",
   "version": "3.9.20"
  }
 },
 "nbformat": 4,
 "nbformat_minor": 2
}
