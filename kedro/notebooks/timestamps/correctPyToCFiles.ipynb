{
 "cells": [
  {
   "cell_type": "code",
   "execution_count": 55,
   "metadata": {},
   "outputs": [],
   "source": [
    "from pathlib import Path\n",
    "from anyio import Condition\n",
    "import pandas as pd\n",
    "\n",
    "path=Path(r'D:\\Kartik\\IIITB\\Study\\Sem 3\\PE\\Kedro\\kartik-eeg\\data\\02_intermediate\\video_data\\16_to_30')\n",
    "files=['trainingStamps.csv','trainingVidStamps.csv']\n",
    "\n",
    "for file in files:\n",
    "    df=pd.read_csv(path/file)\n",
    "    df.loc[(df['task'] == 2) & ((df['file'] == '2.py') | (df['file'] == '4.py')), 'file'] = df['file'].map(lambda x: x[:2] + \"c\")\n",
    "    df.loc[(df['task'] == 3) & ((df['file'] == '2.py') | (df['file'] == '4.py')), 'file'] = df['file'].map(lambda x: x[:2] + \"txt\")\n",
    "    df.to_csv(path/(file[:-4]+\"CorrectedFileExtensions.csv\"),index=False)"
   ]
  },
  {
   "cell_type": "code",
   "execution_count": null,
   "metadata": {},
   "outputs": [],
   "source": []
  }
 ],
 "metadata": {
  "kernelspec": {
   "display_name": "Python 3",
   "language": "python",
   "name": "python3"
  },
  "language_info": {
   "codemirror_mode": {
    "name": "ipython",
    "version": 3
   },
   "file_extension": ".py",
   "mimetype": "text/x-python",
   "name": "python",
   "nbconvert_exporter": "python",
   "pygments_lexer": "ipython3",
   "version": "3.9.20"
  }
 },
 "nbformat": 4,
 "nbformat_minor": 2
}
