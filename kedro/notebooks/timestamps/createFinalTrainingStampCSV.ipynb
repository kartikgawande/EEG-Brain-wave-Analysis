{
 "cells": [
  {
   "cell_type": "code",
   "execution_count": 6,
   "metadata": {},
   "outputs": [],
   "source": [
    "from pathlib import Path\n",
    "import pandas as pd\n",
    "\n",
    "path_15=Path(r'D:\\Kartik\\IIITB\\Study\\Sem 3\\PE\\Kedro\\kartik-eeg\\data\\02_intermediate\\video_data\\1_to_15\\trainingStamps.csv')\n",
    "path_30=Path(r'D:\\Kartik\\IIITB\\Study\\Sem 3\\PE\\Kedro\\kartik-eeg\\data\\02_intermediate\\video_data\\16_to_30\\trainingStampsCorrectedFileExtensions.csv')\n",
    "save_path=Path(r'D:\\Kartik\\IIITB\\Study\\Sem 3\\PE\\Kedro\\kartik-eeg\\data\\02_intermediate\\video_data')\n",
    "\n",
    "df_15=pd.read_csv(path_15)\n",
    "df_30=pd.read_csv(path_30)\n",
    "\n",
    "df=pd.concat([df_15,df_30],ignore_index=True)\n",
    "df.to_csv(save_path/\"trainingStampsFinal.csv\", index=False)"
   ]
  },
  {
   "cell_type": "code",
   "execution_count": 2,
   "metadata": {},
   "outputs": [
    {
     "data": {
      "text/plain": [
       "(233, 5)"
      ]
     },
     "execution_count": 2,
     "metadata": {},
     "output_type": "execute_result"
    }
   ],
   "source": [
    "df_15.shape"
   ]
  },
  {
   "cell_type": "code",
   "execution_count": 3,
   "metadata": {},
   "outputs": [
    {
     "data": {
      "text/plain": [
       "(311, 5)"
      ]
     },
     "execution_count": 3,
     "metadata": {},
     "output_type": "execute_result"
    }
   ],
   "source": [
    "df_30.shape"
   ]
  },
  {
   "cell_type": "code",
   "execution_count": null,
   "metadata": {},
   "outputs": [],
   "source": []
  }
 ],
 "metadata": {
  "kernelspec": {
   "display_name": "Python 3",
   "language": "python",
   "name": "python3"
  },
  "language_info": {
   "codemirror_mode": {
    "name": "ipython",
    "version": 3
   },
   "file_extension": ".py",
   "mimetype": "text/x-python",
   "name": "python",
   "nbconvert_exporter": "python",
   "pygments_lexer": "ipython3",
   "version": "3.9.20"
  }
 },
 "nbformat": 4,
 "nbformat_minor": 2
}
