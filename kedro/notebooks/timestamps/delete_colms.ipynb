{
 "cells": [
  {
   "cell_type": "code",
   "execution_count": 1,
   "metadata": {},
   "outputs": [],
   "source": [
    "import pandas as pd"
   ]
  },
  {
   "cell_type": "code",
   "execution_count": 3,
   "metadata": {},
   "outputs": [],
   "source": [
    "df = pd.read_csv('D:\\\\Kartik\\\\IIITB\\\\Study\\\\Sem 3\\\\PE\\\\Kedro\\\\kartik-eeg\\\\data\\\\02_intermediate\\\\video_data\\\\16_to_30\\\\offset_times.csv')"
   ]
  },
  {
   "cell_type": "code",
   "execution_count": 4,
   "metadata": {},
   "outputs": [
    {
     "data": {
      "text/html": [
       "<div>\n",
       "<style scoped>\n",
       "    .dataframe tbody tr th:only-of-type {\n",
       "        vertical-align: middle;\n",
       "    }\n",
       "\n",
       "    .dataframe tbody tr th {\n",
       "        vertical-align: top;\n",
       "    }\n",
       "\n",
       "    .dataframe thead th {\n",
       "        text-align: right;\n",
       "    }\n",
       "</style>\n",
       "<table border=\"1\" class=\"dataframe\">\n",
       "  <thead>\n",
       "    <tr style=\"text-align: right;\">\n",
       "      <th></th>\n",
       "      <th>File Name</th>\n",
       "      <th>Video Time</th>\n",
       "      <th>Actual Time</th>\n",
       "      <th>Offset Time</th>\n",
       "    </tr>\n",
       "  </thead>\n",
       "  <tbody>\n",
       "    <tr>\n",
       "      <th>0</th>\n",
       "      <td>16shiv-2019-06-05_13.35.27.csv</td>\n",
       "      <td>(00, 10, 39)</td>\n",
       "      <td>13:46:07</td>\n",
       "      <td>(13, 35, 28)</td>\n",
       "    </tr>\n",
       "    <tr>\n",
       "      <th>1</th>\n",
       "      <td>17ank-2019-06-05_14.43.17.csv</td>\n",
       "      <td>(00, 20, 35)</td>\n",
       "      <td>15:04:03</td>\n",
       "      <td>(14, 43, 28)</td>\n",
       "    </tr>\n",
       "    <tr>\n",
       "      <th>2</th>\n",
       "      <td>18kom-2019-06-06_11.03.13.csv</td>\n",
       "      <td>(00, 01, 20)</td>\n",
       "      <td>11:04:35</td>\n",
       "      <td>(11, 03, 15)</td>\n",
       "    </tr>\n",
       "    <tr>\n",
       "      <th>3</th>\n",
       "      <td>19tri-2019-06-06_12.23.44.csv</td>\n",
       "      <td>(00, 01, 21)</td>\n",
       "      <td>12:24:57</td>\n",
       "      <td>(12, 23, 36)</td>\n",
       "    </tr>\n",
       "    <tr>\n",
       "      <th>4</th>\n",
       "      <td>20shy-2019-06-06_16.04.41.csv</td>\n",
       "      <td>(00, 07, 22)</td>\n",
       "      <td>16:12:04</td>\n",
       "      <td>(16, 04, 42)</td>\n",
       "    </tr>\n",
       "  </tbody>\n",
       "</table>\n",
       "</div>"
      ],
      "text/plain": [
       "                        File Name    Video Time Actual Time   Offset Time\n",
       "0  16shiv-2019-06-05_13.35.27.csv  (00, 10, 39)    13:46:07  (13, 35, 28)\n",
       "1   17ank-2019-06-05_14.43.17.csv  (00, 20, 35)    15:04:03  (14, 43, 28)\n",
       "2   18kom-2019-06-06_11.03.13.csv  (00, 01, 20)    11:04:35  (11, 03, 15)\n",
       "3   19tri-2019-06-06_12.23.44.csv  (00, 01, 21)    12:24:57  (12, 23, 36)\n",
       "4   20shy-2019-06-06_16.04.41.csv  (00, 07, 22)    16:12:04  (16, 04, 42)"
      ]
     },
     "execution_count": 4,
     "metadata": {},
     "output_type": "execute_result"
    }
   ],
   "source": [
    "df.head()"
   ]
  },
  {
   "cell_type": "code",
   "execution_count": 7,
   "metadata": {},
   "outputs": [],
   "source": [
    "df=df.drop(columns=['Video Time','Actual Time'])"
   ]
  },
  {
   "cell_type": "code",
   "execution_count": 17,
   "metadata": {},
   "outputs": [],
   "source": [
    "df.to_csv('offset_times.csv')"
   ]
  },
  {
   "cell_type": "code",
   "execution_count": 13,
   "metadata": {},
   "outputs": [],
   "source": [
    "def convert_time_format(time_str):\n",
    "    # Remove parentheses and split by comma\n",
    "    time_parts = [part.strip() for part in time_str.strip('()').split(',')]\n",
    "    # Format the parts into 'hh:mm:ss'\n",
    "    return ':'.join(time_parts)"
   ]
  },
  {
   "cell_type": "code",
   "execution_count": 15,
   "metadata": {},
   "outputs": [],
   "source": [
    "df['Offset Time']=df['Offset Time'].map(convert_time_format)"
   ]
  },
  {
   "cell_type": "code",
   "execution_count": 16,
   "metadata": {},
   "outputs": [
    {
     "data": {
      "text/html": [
       "<div>\n",
       "<style scoped>\n",
       "    .dataframe tbody tr th:only-of-type {\n",
       "        vertical-align: middle;\n",
       "    }\n",
       "\n",
       "    .dataframe tbody tr th {\n",
       "        vertical-align: top;\n",
       "    }\n",
       "\n",
       "    .dataframe thead th {\n",
       "        text-align: right;\n",
       "    }\n",
       "</style>\n",
       "<table border=\"1\" class=\"dataframe\">\n",
       "  <thead>\n",
       "    <tr style=\"text-align: right;\">\n",
       "      <th></th>\n",
       "      <th>File Name</th>\n",
       "      <th>Offset Time</th>\n",
       "    </tr>\n",
       "  </thead>\n",
       "  <tbody>\n",
       "    <tr>\n",
       "      <th>0</th>\n",
       "      <td>16shiv-2019-06-05_13.35.27.csv</td>\n",
       "      <td>13:35:28</td>\n",
       "    </tr>\n",
       "    <tr>\n",
       "      <th>1</th>\n",
       "      <td>17ank-2019-06-05_14.43.17.csv</td>\n",
       "      <td>14:43:28</td>\n",
       "    </tr>\n",
       "    <tr>\n",
       "      <th>2</th>\n",
       "      <td>18kom-2019-06-06_11.03.13.csv</td>\n",
       "      <td>11:03:15</td>\n",
       "    </tr>\n",
       "    <tr>\n",
       "      <th>3</th>\n",
       "      <td>19tri-2019-06-06_12.23.44.csv</td>\n",
       "      <td>12:23:36</td>\n",
       "    </tr>\n",
       "    <tr>\n",
       "      <th>4</th>\n",
       "      <td>20shy-2019-06-06_16.04.41.csv</td>\n",
       "      <td>16:04:42</td>\n",
       "    </tr>\n",
       "    <tr>\n",
       "      <th>5</th>\n",
       "      <td>21tar-2019-06-06_15.10.12.csv</td>\n",
       "      <td>15:10:13</td>\n",
       "    </tr>\n",
       "    <tr>\n",
       "      <th>6</th>\n",
       "      <td>22ayu-2019-06-07_11.16.54.csv</td>\n",
       "      <td>11:16:55</td>\n",
       "    </tr>\n",
       "    <tr>\n",
       "      <th>7</th>\n",
       "      <td>23nih-2019-06-07_12.18.32.csv</td>\n",
       "      <td>12:18:34</td>\n",
       "    </tr>\n",
       "    <tr>\n",
       "      <th>8</th>\n",
       "      <td>24pra-2019-06-07_14.27.52.csv</td>\n",
       "      <td>14:27:53</td>\n",
       "    </tr>\n",
       "    <tr>\n",
       "      <th>9</th>\n",
       "      <td>25lik-2019-06-07_15.49.58.csv</td>\n",
       "      <td>15:49:58</td>\n",
       "    </tr>\n",
       "    <tr>\n",
       "      <th>10</th>\n",
       "      <td>26rac-2019-06-08_10.04.41.csv</td>\n",
       "      <td>10:04:42</td>\n",
       "    </tr>\n",
       "    <tr>\n",
       "      <th>11</th>\n",
       "      <td>27kar-2019-06-08_10.48.19.csv</td>\n",
       "      <td>10:48:20</td>\n",
       "    </tr>\n",
       "    <tr>\n",
       "      <th>12</th>\n",
       "      <td>28pra-2019-06-08_11.57.10.csv</td>\n",
       "      <td>11:57:10</td>\n",
       "    </tr>\n",
       "    <tr>\n",
       "      <th>13</th>\n",
       "      <td>29shu-2019-06-08_13.08.17.csv</td>\n",
       "      <td>13:08:20</td>\n",
       "    </tr>\n",
       "    <tr>\n",
       "      <th>14</th>\n",
       "      <td>30kar-2019-06-08_15.00.29.csv</td>\n",
       "      <td>15:00:30</td>\n",
       "    </tr>\n",
       "  </tbody>\n",
       "</table>\n",
       "</div>"
      ],
      "text/plain": [
       "                         File Name Offset Time\n",
       "0   16shiv-2019-06-05_13.35.27.csv    13:35:28\n",
       "1    17ank-2019-06-05_14.43.17.csv    14:43:28\n",
       "2    18kom-2019-06-06_11.03.13.csv    11:03:15\n",
       "3    19tri-2019-06-06_12.23.44.csv    12:23:36\n",
       "4    20shy-2019-06-06_16.04.41.csv    16:04:42\n",
       "5    21tar-2019-06-06_15.10.12.csv    15:10:13\n",
       "6    22ayu-2019-06-07_11.16.54.csv    11:16:55\n",
       "7    23nih-2019-06-07_12.18.32.csv    12:18:34\n",
       "8    24pra-2019-06-07_14.27.52.csv    14:27:53\n",
       "9    25lik-2019-06-07_15.49.58.csv    15:49:58\n",
       "10   26rac-2019-06-08_10.04.41.csv    10:04:42\n",
       "11   27kar-2019-06-08_10.48.19.csv    10:48:20\n",
       "12   28pra-2019-06-08_11.57.10.csv    11:57:10\n",
       "13   29shu-2019-06-08_13.08.17.csv    13:08:20\n",
       "14   30kar-2019-06-08_15.00.29.csv    15:00:30"
      ]
     },
     "execution_count": 16,
     "metadata": {},
     "output_type": "execute_result"
    }
   ],
   "source": [
    "df"
   ]
  },
  {
   "cell_type": "code",
   "execution_count": null,
   "metadata": {},
   "outputs": [],
   "source": []
  }
 ],
 "metadata": {
  "kernelspec": {
   "display_name": "Python 3",
   "language": "python",
   "name": "python3"
  },
  "language_info": {
   "codemirror_mode": {
    "name": "ipython",
    "version": 3
   },
   "file_extension": ".py",
   "mimetype": "text/x-python",
   "name": "python",
   "nbconvert_exporter": "python",
   "pygments_lexer": "ipython3",
   "version": "3.9.20"
  }
 },
 "nbformat": 4,
 "nbformat_minor": 2
}
