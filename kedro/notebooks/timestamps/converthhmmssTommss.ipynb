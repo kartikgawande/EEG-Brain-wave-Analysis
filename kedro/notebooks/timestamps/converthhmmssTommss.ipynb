{
 "cells": [
  {
   "cell_type": "code",
   "execution_count": 2,
   "metadata": {},
   "outputs": [],
   "source": [
    "import pandas as pd\n",
    "from datetime import datetime\n",
    "from pathlib import Path\n",
    "df = pd.read_csv(Path(r'D:\\Kartik\\IIITB\\Study\\Sem 3\\PE\\Kedro\\kartik-eeg\\data\\02_intermediate\\video_data\\16_to_30\\trainingVidStampsCorrectedFileExtensions.csv'))\n",
    "\n",
    "# Convert 'hh:mm:ss' to 'mm:ss'\n",
    "df['start'] = df['start'].apply(lambda x: datetime.strptime(x, '%H:%M:%S').strftime('%M:%S'))\n",
    "df['end'] = df['end'].apply(lambda x: datetime.strptime(x, '%H:%M:%S').strftime('%M:%S'))\n",
    "\n",
    "df.to_csv('trainingVidStampsCorrectedFileExtensionsMMSS.csv',index=False)\n"
   ]
  },
  {
   "cell_type": "code",
   "execution_count": null,
   "metadata": {},
   "outputs": [],
   "source": []
  }
 ],
 "metadata": {
  "kernelspec": {
   "display_name": "Python 3",
   "language": "python",
   "name": "python3"
  },
  "language_info": {
   "codemirror_mode": {
    "name": "ipython",
    "version": 3
   },
   "file_extension": ".py",
   "mimetype": "text/x-python",
   "name": "python",
   "nbconvert_exporter": "python",
   "pygments_lexer": "ipython3",
   "version": "3.9.20"
  }
 },
 "nbformat": 4,
 "nbformat_minor": 2
}
