{
 "cells": [
  {
   "cell_type": "code",
   "execution_count": 2,
   "metadata": {},
   "outputs": [],
   "source": [
    "import pandas as pd"
   ]
  },
  {
   "cell_type": "code",
   "execution_count": 3,
   "metadata": {},
   "outputs": [],
   "source": [
    "\n",
    "import re\n",
    "# Function to check if the string is in 'hh:mm:ss' format\n",
    "def is_correct_format(time_str):\n",
    "    return re.match(r'^\\d{1,2}:\\d{1,2}:\\d{1,2}$', time_str)\n",
    "\n",
    "# Function to convert '(hh,mm,ss)' to 'hh:mm:ss' with leading zeros for single digits\n",
    "def convert_time_format_safe(time_str):\n",
    "    if is_correct_format(time_str):\n",
    "        # Already in the correct format, split and reformat to ensure leading zeros\n",
    "        parts = time_str.split(':')\n",
    "        return ':'.join(f\"{int(part):02d}\" for part in parts)\n",
    "    else:\n",
    "        # Assume the format is '(hh,mm,ss)', remove parentheses, split, and format\n",
    "        time_parts = time_str.strip('()').split(',')\n",
    "        formatted_parts = [f\"{int(part.strip()):02d}\" for part in time_parts]\n",
    "        return ':'.join(formatted_parts)"
   ]
  },
  {
   "cell_type": "code",
   "execution_count": 5,
   "metadata": {},
   "outputs": [
    {
     "name": "stdout",
     "output_type": "stream",
     "text": [
      "Processed and saved 16.csv\n",
      "Processed and saved 17.csv\n",
      "Processed and saved 18.csv\n",
      "Processed and saved 19.csv\n",
      "Processed and saved 20.csv\n",
      "Processed and saved 21.csv\n",
      "Processed and saved 22.csv\n",
      "Processed and saved 23.csv\n",
      "Processed and saved 24.csv\n",
      "Processed and saved 25.csv\n",
      "Processed and saved 26.csv\n",
      "Processed and saved 27.csv\n",
      "Processed and saved 28.csv\n",
      "Processed and saved 29.csv\n",
      "Processed and saved 30.csv\n"
     ]
    }
   ],
   "source": [
    "import os\n",
    "from pathlib import Path\n",
    "# Process each CSV file in the directory\n",
    "directory_path=Path(r\"D:\\Kartik\\IIITB\\Study\\Sem 3\\PE\\Kedro\\kartik-eeg\\data\\02_intermediate\\video_data\\16_to_30\\tasksStamps\")\n",
    "for filename in os.listdir(directory_path):\n",
    "    if filename.endswith('.csv'):\n",
    "        file_path = os.path.join(directory_path, filename)\n",
    "        df = pd.read_csv(file_path)\n",
    "        \n",
    "        # Apply the function to each column in the DataFrame\n",
    "        # for column in df.columns:\n",
    "        #     df[column] = df[column].apply(convert_time_format_safe)\n",
    "\n",
    "        df['end'] = df['end'].apply(convert_time_format_safe)\n",
    "\n",
    "        \n",
    "        # Save the modified DataFrame back to CSV\n",
    "        df.to_csv(file_path, index=False)\n",
    "        print(f\"Processed and saved {filename}\")"
   ]
  },
  {
   "cell_type": "code",
   "execution_count": null,
   "metadata": {},
   "outputs": [],
   "source": []
  }
 ],
 "metadata": {
  "kernelspec": {
   "display_name": "Python 3",
   "language": "python",
   "name": "python3"
  },
  "language_info": {
   "codemirror_mode": {
    "name": "ipython",
    "version": 3
   },
   "file_extension": ".py",
   "mimetype": "text/x-python",
   "name": "python",
   "nbconvert_exporter": "python",
   "pygments_lexer": "ipython3",
   "version": "3.9.20"
  }
 },
 "nbformat": 4,
 "nbformat_minor": 2
}
