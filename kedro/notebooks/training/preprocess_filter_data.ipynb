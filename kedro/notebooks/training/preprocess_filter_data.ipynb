{
 "cells": [
  {
   "cell_type": "code",
   "execution_count": 1,
   "metadata": {},
   "outputs": [],
   "source": [
    "import pandas as pd\n",
    "from pathlib import Path"
   ]
  },
  {
   "cell_type": "code",
   "execution_count": 2,
   "metadata": {},
   "outputs": [],
   "source": [
    "file_path=Path(r'D:\\Kartik\\IIITB\\Study\\Sem 3\\PE\\Kedro\\kartik-eeg\\data\\04_primary\\dataset_filtered_no_first_15_task_3s.csv')\n",
    "df = pd.read_csv(file_path)"
   ]
  },
  {
   "cell_type": "code",
   "execution_count": 3,
   "metadata": {},
   "outputs": [
    {
     "data": {
      "text/html": [
       "<div>\n",
       "<style scoped>\n",
       "    .dataframe tbody tr th:only-of-type {\n",
       "        vertical-align: middle;\n",
       "    }\n",
       "\n",
       "    .dataframe tbody tr th {\n",
       "        vertical-align: top;\n",
       "    }\n",
       "\n",
       "    .dataframe thead th {\n",
       "        text-align: right;\n",
       "    }\n",
       "</style>\n",
       "<table border=\"1\" class=\"dataframe\">\n",
       "  <thead>\n",
       "    <tr style=\"text-align: right;\">\n",
       "      <th></th>\n",
       "      <th>participant</th>\n",
       "      <th>ftime</th>\n",
       "      <th>label</th>\n",
       "      <th>power_1</th>\n",
       "      <th>differential_entropy1</th>\n",
       "      <th>mean1</th>\n",
       "      <th>std1</th>\n",
       "      <th>skew1</th>\n",
       "      <th>kurtosis1</th>\n",
       "      <th>iqr1</th>\n",
       "      <th>...</th>\n",
       "      <th>power_8</th>\n",
       "      <th>differential_entropy8</th>\n",
       "      <th>mean8</th>\n",
       "      <th>std8</th>\n",
       "      <th>skew8</th>\n",
       "      <th>kurtosis8</th>\n",
       "      <th>iqr8</th>\n",
       "      <th>median8</th>\n",
       "      <th>hjorth_08</th>\n",
       "      <th>hjorth_18</th>\n",
       "    </tr>\n",
       "  </thead>\n",
       "  <tbody>\n",
       "    <tr>\n",
       "      <th>0</th>\n",
       "      <td>1</td>\n",
       "      <td>1900-01-01 10:29:19</td>\n",
       "      <td>0</td>\n",
       "      <td>8995.845745</td>\n",
       "      <td>7.053254</td>\n",
       "      <td>32046.31699</td>\n",
       "      <td>384.628354</td>\n",
       "      <td>-1.237420</td>\n",
       "      <td>0.816988</td>\n",
       "      <td>354.0000</td>\n",
       "      <td>...</td>\n",
       "      <td>757.406659</td>\n",
       "      <td>5.402481</td>\n",
       "      <td>-25411.844754</td>\n",
       "      <td>58.106355</td>\n",
       "      <td>0.143098</td>\n",
       "      <td>-0.004800</td>\n",
       "      <td>82.7600</td>\n",
       "      <td>42.580</td>\n",
       "      <td>0.000386</td>\n",
       "      <td>1.234242</td>\n",
       "    </tr>\n",
       "    <tr>\n",
       "      <th>1</th>\n",
       "      <td>1</td>\n",
       "      <td>1900-01-01 10:29:29</td>\n",
       "      <td>0</td>\n",
       "      <td>40242.179690</td>\n",
       "      <td>7.593252</td>\n",
       "      <td>29023.60239</td>\n",
       "      <td>1220.389056</td>\n",
       "      <td>0.206970</td>\n",
       "      <td>-1.719914</td>\n",
       "      <td>2511.5925</td>\n",
       "      <td>...</td>\n",
       "      <td>461.197786</td>\n",
       "      <td>5.179250</td>\n",
       "      <td>-25283.216359</td>\n",
       "      <td>47.101302</td>\n",
       "      <td>0.034578</td>\n",
       "      <td>-0.593690</td>\n",
       "      <td>78.2050</td>\n",
       "      <td>36.300</td>\n",
       "      <td>0.000496</td>\n",
       "      <td>1.224450</td>\n",
       "    </tr>\n",
       "    <tr>\n",
       "      <th>2</th>\n",
       "      <td>1</td>\n",
       "      <td>1900-01-01 10:29:39</td>\n",
       "      <td>0</td>\n",
       "      <td>8779.468993</td>\n",
       "      <td>7.140613</td>\n",
       "      <td>30559.85626</td>\n",
       "      <td>611.641877</td>\n",
       "      <td>-1.461695</td>\n",
       "      <td>0.991814</td>\n",
       "      <td>571.8700</td>\n",
       "      <td>...</td>\n",
       "      <td>548.143048</td>\n",
       "      <td>5.073813</td>\n",
       "      <td>-25125.209535</td>\n",
       "      <td>42.055425</td>\n",
       "      <td>-0.365472</td>\n",
       "      <td>-0.082871</td>\n",
       "      <td>46.4400</td>\n",
       "      <td>23.040</td>\n",
       "      <td>0.000412</td>\n",
       "      <td>1.236278</td>\n",
       "    </tr>\n",
       "    <tr>\n",
       "      <th>3</th>\n",
       "      <td>1</td>\n",
       "      <td>1900-01-01 10:29:49</td>\n",
       "      <td>0</td>\n",
       "      <td>5462.791955</td>\n",
       "      <td>5.812329</td>\n",
       "      <td>31149.86247</td>\n",
       "      <td>88.055996</td>\n",
       "      <td>0.268596</td>\n",
       "      <td>0.974663</td>\n",
       "      <td>102.3950</td>\n",
       "      <td>...</td>\n",
       "      <td>756.408356</td>\n",
       "      <td>5.301464</td>\n",
       "      <td>-24995.481022</td>\n",
       "      <td>54.174400</td>\n",
       "      <td>0.642358</td>\n",
       "      <td>0.458843</td>\n",
       "      <td>65.2375</td>\n",
       "      <td>32.255</td>\n",
       "      <td>0.000401</td>\n",
       "      <td>1.225505</td>\n",
       "    </tr>\n",
       "    <tr>\n",
       "      <th>4</th>\n",
       "      <td>1</td>\n",
       "      <td>1900-01-01 10:29:59</td>\n",
       "      <td>0</td>\n",
       "      <td>7056.253901</td>\n",
       "      <td>6.181402</td>\n",
       "      <td>31145.52422</td>\n",
       "      <td>124.025163</td>\n",
       "      <td>-0.080207</td>\n",
       "      <td>-0.517104</td>\n",
       "      <td>185.7950</td>\n",
       "      <td>...</td>\n",
       "      <td>1015.670223</td>\n",
       "      <td>5.048353</td>\n",
       "      <td>-24872.735543</td>\n",
       "      <td>40.360114</td>\n",
       "      <td>0.000920</td>\n",
       "      <td>-0.998837</td>\n",
       "      <td>68.6650</td>\n",
       "      <td>34.180</td>\n",
       "      <td>0.000418</td>\n",
       "      <td>1.217193</td>\n",
       "    </tr>\n",
       "  </tbody>\n",
       "</table>\n",
       "<p>5 rows × 63 columns</p>\n",
       "</div>"
      ],
      "text/plain": [
       "   participant                ftime  label       power_1  \\\n",
       "0            1  1900-01-01 10:29:19      0   8995.845745   \n",
       "1            1  1900-01-01 10:29:29      0  40242.179690   \n",
       "2            1  1900-01-01 10:29:39      0   8779.468993   \n",
       "3            1  1900-01-01 10:29:49      0   5462.791955   \n",
       "4            1  1900-01-01 10:29:59      0   7056.253901   \n",
       "\n",
       "   differential_entropy1        mean1         std1     skew1  kurtosis1  \\\n",
       "0               7.053254  32046.31699   384.628354 -1.237420   0.816988   \n",
       "1               7.593252  29023.60239  1220.389056  0.206970  -1.719914   \n",
       "2               7.140613  30559.85626   611.641877 -1.461695   0.991814   \n",
       "3               5.812329  31149.86247    88.055996  0.268596   0.974663   \n",
       "4               6.181402  31145.52422   124.025163 -0.080207  -0.517104   \n",
       "\n",
       "        iqr1  ...      power_8  differential_entropy8         mean8  \\\n",
       "0   354.0000  ...   757.406659               5.402481 -25411.844754   \n",
       "1  2511.5925  ...   461.197786               5.179250 -25283.216359   \n",
       "2   571.8700  ...   548.143048               5.073813 -25125.209535   \n",
       "3   102.3950  ...   756.408356               5.301464 -24995.481022   \n",
       "4   185.7950  ...  1015.670223               5.048353 -24872.735543   \n",
       "\n",
       "        std8     skew8  kurtosis8     iqr8  median8  hjorth_08  hjorth_18  \n",
       "0  58.106355  0.143098  -0.004800  82.7600   42.580   0.000386   1.234242  \n",
       "1  47.101302  0.034578  -0.593690  78.2050   36.300   0.000496   1.224450  \n",
       "2  42.055425 -0.365472  -0.082871  46.4400   23.040   0.000412   1.236278  \n",
       "3  54.174400  0.642358   0.458843  65.2375   32.255   0.000401   1.225505  \n",
       "4  40.360114  0.000920  -0.998837  68.6650   34.180   0.000418   1.217193  \n",
       "\n",
       "[5 rows x 63 columns]"
      ]
     },
     "execution_count": 3,
     "metadata": {},
     "output_type": "execute_result"
    }
   ],
   "source": [
    "df.head()"
   ]
  },
  {
   "cell_type": "code",
   "execution_count": 4,
   "metadata": {},
   "outputs": [
    {
     "data": {
      "text/plain": [
       "np.int64(0)"
      ]
     },
     "execution_count": 4,
     "metadata": {},
     "output_type": "execute_result"
    }
   ],
   "source": [
    "df.isna().sum().sum()"
   ]
  },
  {
   "cell_type": "code",
   "execution_count": 5,
   "metadata": {},
   "outputs": [
    {
     "data": {
      "text/plain": [
       "np.int64(0)"
      ]
     },
     "execution_count": 5,
     "metadata": {},
     "output_type": "execute_result"
    }
   ],
   "source": [
    "df.isnull().sum().sum()"
   ]
  },
  {
   "cell_type": "code",
   "execution_count": 6,
   "metadata": {},
   "outputs": [
    {
     "data": {
      "text/plain": [
       "(625, 63)"
      ]
     },
     "execution_count": 6,
     "metadata": {},
     "output_type": "execute_result"
    }
   ],
   "source": [
    "df.shape"
   ]
  },
  {
   "cell_type": "code",
   "execution_count": null,
   "metadata": {},
   "outputs": [],
   "source": []
  }
 ],
 "metadata": {
  "kernelspec": {
   "display_name": "Python 3",
   "language": "python",
   "name": "python3"
  },
  "language_info": {
   "codemirror_mode": {
    "name": "ipython",
    "version": 3
   },
   "file_extension": ".py",
   "mimetype": "text/x-python",
   "name": "python",
   "nbconvert_exporter": "python",
   "pygments_lexer": "ipython3",
   "version": "3.9.20"
  }
 },
 "nbformat": 4,
 "nbformat_minor": 2
}
